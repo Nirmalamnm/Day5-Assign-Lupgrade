{
  "nbformat": 4,
  "nbformat_minor": 0,
  "metadata": {
    "colab": {
      "name": "Day5 Letsupgrade.ipynb",
      "provenance": [],
      "collapsed_sections": []
    },
    "kernelspec": {
      "name": "python3",
      "display_name": "Python 3"
    }
  },
  "cells": [
    {
      "cell_type": "code",
      "metadata": {
        "id": "do4PGgt_Sn16",
        "colab_type": "code",
        "colab": {}
      },
      "source": [
        ""
      ],
      "execution_count": 0,
      "outputs": []
    },
    {
      "cell_type": "code",
      "metadata": {
        "id": "Z2SL6NTmSpjK",
        "colab_type": "code",
        "colab": {}
      },
      "source": [
        "class Bank():\n",
        "    def __init__(self,owner,balance=0):\n",
        "        self.owner = owner\n",
        "        self.balance = balance\n",
        "        \n",
        "    def deposit(self, balance):\n",
        "        self.balance+=  balance\n",
        "        return self.balance\n",
        "    \n",
        "    def withdraw(self,balance):\n",
        "            if self.balance >= balance:\n",
        "                self.balance-=balance\n",
        "            else:\n",
        "                return \"Not Possible only \" + str(self.balance) + ' is avaliable'\n",
        "                \n",
        "            return self.balance\n",
        "           "
      ],
      "execution_count": 0,
      "outputs": []
    },
    {
      "cell_type": "code",
      "metadata": {
        "id": "Zqz9JLCXSppi",
        "colab_type": "code",
        "colab": {}
      },
      "source": [
        "account1 = Bank('account1',500)\n"
      ],
      "execution_count": 0,
      "outputs": []
    },
    {
      "cell_type": "code",
      "metadata": {
        "id": "7RQTJuVsZHTx",
        "colab_type": "code",
        "colab": {}
      },
      "source": [
        "\n",
        "account1.deposit(1000)"
      ],
      "execution_count": 0,
      "outputs": []
    },
    {
      "cell_type": "code",
      "metadata": {
        "id": "ea17yzTxZHeI",
        "colab_type": "code",
        "colab": {}
      },
      "source": [
        "account1.withdraw(700)"
      ],
      "execution_count": 0,
      "outputs": []
    },
    {
      "cell_type": "code",
      "metadata": {
        "id": "2Y39O50iZHnw",
        "colab_type": "code",
        "colab": {}
      },
      "source": [
        "account1.owner"
      ],
      "execution_count": 0,
      "outputs": []
    },
    {
      "cell_type": "code",
      "metadata": {
        "id": "zmwu0EXQZY5U",
        "colab_type": "code",
        "colab": {}
      },
      "source": [
        "account1.withdraw(299)"
      ],
      "execution_count": 0,
      "outputs": []
    },
    {
      "cell_type": "code",
      "metadata": {
        "id": "4xTgVJhUSp14",
        "colab_type": "code",
        "colab": {}
      },
      "source": [
        "import math\n",
        "\n",
        "\n",
        "class Cone:\n",
        "    def __init__(surf,r=1,h=1):\n",
        "        surf.r = r\n",
        "        surf.h = h\n",
        "        surf.volume =0\n",
        "        surf.surface_area = 0\n",
        "        \n",
        "    def volume_fun(surf):\n",
        "        surf.volume = math.pi * surf.r * surf.r * (surf.h/3)\n",
        "        return surf.volume\n",
        "    \n",
        "    def surface_area_fun(self):\n",
        "        base = math.pi * surf.r * surf.r\n",
        "        side = math.pi * surf.r * math.sqrt(surf.r**2 + surf.h**2)\n",
        "        surf.surface_area = base + side\n",
        "        return surf.surface_area\n"
      ],
      "execution_count": 0,
      "outputs": []
    },
    {
      "cell_type": "code",
      "metadata": {
        "id": "EoPrT-0zSp7P",
        "colab_type": "code",
        "colab": {}
      },
      "source": [
        "cone1 = Cone(5,7)\n"
      ],
      "execution_count": 0,
      "outputs": []
    },
    {
      "cell_type": "code",
      "metadata": {
        "id": "RLs3xmYYT_AC",
        "colab_type": "code",
        "colab": {}
      },
      "source": [
        "cone1.volume_fun()"
      ],
      "execution_count": 0,
      "outputs": []
    },
    {
      "cell_type": "code",
      "metadata": {
        "id": "1gXLwaW0T_KC",
        "colab_type": "code",
        "colab": {}
      },
      "source": [
        "cone1.surface_area_fun()"
      ],
      "execution_count": 0,
      "outputs": []
    },
    {
      "cell_type": "code",
      "metadata": {
        "id": "l6bf-sz2Xlvq",
        "colab_type": "code",
        "colab": {
          "base_uri": "https://localhost:8080/",
          "height": 33
        },
        "outputId": "25744443-d97d-47a0-d88a-82277771d5b9"
      },
      "source": [
        "map"
      ],
      "execution_count": 15,
      "outputs": [
        {
          "output_type": "execute_result",
          "data": {
            "text/plain": [
              "map"
            ]
          },
          "metadata": {
            "tags": []
          },
          "execution_count": 15
        }
      ]
    },
    {
      "cell_type": "code",
      "metadata": {
        "id": "TWP6HP1oXl6D",
        "colab_type": "code",
        "colab": {}
      },
      "source": [
        ""
      ],
      "execution_count": 0,
      "outputs": []
    }
  ]
}